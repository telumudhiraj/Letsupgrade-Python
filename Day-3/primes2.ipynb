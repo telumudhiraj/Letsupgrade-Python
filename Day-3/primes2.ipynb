{
  "nbformat": 4,
  "nbformat_minor": 0,
  "metadata": {
    "colab": {
      "name": "primes2.ipynb",
      "provenance": [],
      "collapsed_sections": []
    },
    "kernelspec": {
      "name": "python3",
      "display_name": "Python 3"
    }
  },
  "cells": [
    {
      "cell_type": "code",
      "metadata": {
        "id": "EstCVRQmg9wV",
        "colab_type": "code",
        "colab": {
          "base_uri": "https://localhost:8080/",
          "height": 34
        },
        "outputId": "451e04ee-f3d2-4b66-d110-20c571c643ab"
      },
      "source": [
        "def prime(n):\n",
        "  if(n==1 or n==0):\n",
        "    return False\n",
        "  else:\n",
        "    c=0\n",
        "    for i in range(1,n+1):\n",
        "        if(n%i==0):\n",
        "          c+=1\n",
        "    if(c>2):\n",
        "      return False\n",
        "    else:\n",
        "      return True\n",
        "prime(4)\n",
        "l=[]\n",
        "for i in range(1,200):\n",
        "   if(prime(i)):\n",
        "      l.append(i)\n",
        "print(l)"
      ],
      "execution_count": 8,
      "outputs": [
        {
          "output_type": "stream",
          "text": [
            "[2, 3, 5, 7, 11, 13, 17, 19, 23, 29, 31, 37, 41, 43, 47, 53, 59, 61, 67, 71, 73, 79, 83, 89, 97, 101, 103, 107, 109, 113, 127, 131, 137, 139, 149, 151, 157, 163, 167, 173, 179, 181, 191, 193, 197, 199]\n"
          ],
          "name": "stdout"
        }
      ]
    }
  ]
}