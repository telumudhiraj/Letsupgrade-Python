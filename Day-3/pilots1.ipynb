{
  "nbformat": 4,
  "nbformat_minor": 0,
  "metadata": {
    "colab": {
      "name": "pilots1.ipynb",
      "provenance": []
    },
    "kernelspec": {
      "name": "python3",
      "display_name": "Python 3"
    }
  },
  "cells": [
    {
      "cell_type": "code",
      "metadata": {
        "id": "EJcge_vVdAKr",
        "colab_type": "code",
        "colab": {
          "base_uri": "https://localhost:8080/",
          "height": 52
        },
        "outputId": "e07798cd-25c7-4833-9920-60144caffbf8"
      },
      "source": [
        "n=int(input())\n",
        "if(n<=1000):\n",
        "  print(\"Safe to Land\")\n",
        "elif(n>1000 and n<4500):\n",
        "  print(\"Bring down to 1000\")\n",
        "elif(n>5000):\n",
        "  print(\"Turn around\")"
      ],
      "execution_count": 2,
      "outputs": [
        {
          "output_type": "stream",
          "text": [
            "200\n",
            "Safe to Land\n"
          ],
          "name": "stdout"
        }
      ]
    }
  ]
}