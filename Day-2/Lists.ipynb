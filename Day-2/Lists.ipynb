{
  "nbformat": 4,
  "nbformat_minor": 0,
  "metadata": {
    "colab": {
      "name": "Lists.ipynb",
      "provenance": [],
      "collapsed_sections": []
    },
    "kernelspec": {
      "name": "python3",
      "display_name": "Python 3"
    }
  },
  "cells": [
    {
      "cell_type": "code",
      "metadata": {
        "id": "lEWVrf28xuzs",
        "colab_type": "code",
        "colab": {
          "base_uri": "https://localhost:8080/",
          "height": 121
        },
        "outputId": "9358c310-b315-4fa4-fef1-df185133c97b"
      },
      "source": [
        "l=list()\n",
        "for i in range(10):\n",
        "  l.append(i)\n",
        "print(\"using append(),list is created as\",l)\n",
        "s=sum(l)\n",
        "print(\"using sum(),sum of list items is\",s)\n",
        "m=min(l)\n",
        "print(\"using min(),minimum of list items is\",m)\n",
        "mx=max(l)\n",
        "print(\"using max(),maximum of list items is\",mx)\n",
        "l.append(2)\n",
        "l.append(2)\n",
        "l.append(2)\n",
        "print(\"list items are\",l)\n",
        "p=l.count(2)\n",
        "print(\"using count(),count of item 2 in list is\",p)"
      ],
      "execution_count": 6,
      "outputs": [
        {
          "output_type": "stream",
          "text": [
            "using append(),list is created as [0, 1, 2, 3, 4, 5, 6, 7, 8, 9]\n",
            "using sum(),sum of list items is 45\n",
            "using min(),minimum of list items is 0\n",
            "using max(),maximum of list items is 9\n",
            "list items are [0, 1, 2, 3, 4, 5, 6, 7, 8, 9, 2, 2, 2]\n",
            "using count(),count of item 2 in list is 4\n"
          ],
          "name": "stdout"
        }
      ]
    }
  ]
}