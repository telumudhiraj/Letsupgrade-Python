{
  "nbformat": 4,
  "nbformat_minor": 0,
  "metadata": {
    "colab": {
      "name": "Dict.ipynb",
      "provenance": [],
      "collapsed_sections": []
    },
    "kernelspec": {
      "name": "python3",
      "display_name": "Python 3"
    }
  },
  "cells": [
    {
      "cell_type": "code",
      "metadata": {
        "id": "Bipz1MO59BfY",
        "colab_type": "code",
        "colab": {
          "base_uri": "https://localhost:8080/",
          "height": 121
        },
        "outputId": "ab6690e2-7a67-4ba9-8d0b-263dcabb2bd7"
      },
      "source": [
        "d=dict()\n",
        "j=[\"Virat\",\"KL Rahul\",\"Sachin\",\"Rohit\",\"ABD\",\"Dhoni\",\"Warner\",\"Gayle\",\"Rahul Dravid\",\"Sammy\"]\n",
        "for i in range(10):\n",
        "  d[i]=j[i]\n",
        "print(d)\n",
        "print(d.keys())\n",
        "print(d.values())\n",
        "print(d.fromkeys(d.values(),\"hi\"))\n",
        "print(d.get(5))\n",
        "d.pop(5)\n",
        "print(d)"
      ],
      "execution_count": 19,
      "outputs": [
        {
          "output_type": "stream",
          "text": [
            "{0: 'Virat', 1: 'KL Rahul', 2: 'Sachin', 3: 'Rohit', 4: 'ABD', 5: 'Dhoni', 6: 'Warner', 7: 'Gayle', 8: 'Rahul Dravid', 9: 'Sammy'}\n",
            "dict_keys([0, 1, 2, 3, 4, 5, 6, 7, 8, 9])\n",
            "dict_values(['Virat', 'KL Rahul', 'Sachin', 'Rohit', 'ABD', 'Dhoni', 'Warner', 'Gayle', 'Rahul Dravid', 'Sammy'])\n",
            "{'Virat': 'hi', 'KL Rahul': 'hi', 'Sachin': 'hi', 'Rohit': 'hi', 'ABD': 'hi', 'Dhoni': 'hi', 'Warner': 'hi', 'Gayle': 'hi', 'Rahul Dravid': 'hi', 'Sammy': 'hi'}\n",
            "Dhoni\n",
            "{0: 'Virat', 1: 'KL Rahul', 2: 'Sachin', 3: 'Rohit', 4: 'ABD', 6: 'Warner', 7: 'Gayle', 8: 'Rahul Dravid', 9: 'Sammy'}\n"
          ],
          "name": "stdout"
        }
      ]
    }
  ]
}