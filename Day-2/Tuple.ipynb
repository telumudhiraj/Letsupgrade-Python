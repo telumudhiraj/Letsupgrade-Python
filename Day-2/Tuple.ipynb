{
  "nbformat": 4,
  "nbformat_minor": 0,
  "metadata": {
    "colab": {
      "name": "Tuple.ipynb",
      "provenance": []
    },
    "kernelspec": {
      "name": "python3",
      "display_name": "Python 3"
    }
  },
  "cells": [
    {
      "cell_type": "code",
      "metadata": {
        "id": "vnW2KdRtTlU9",
        "colab_type": "code",
        "colab": {
          "base_uri": "https://localhost:8080/",
          "height": 138
        },
        "outputId": "d72d142c-e7f4-4c6b-de46-562ea30367f5"
      },
      "source": [
        "t=tuple()\n",
        "tp=(34,55,89,18,49)\n",
        "tp=tp+(78,)\n",
        "print(\"Adding items in tuple\",tp)\n",
        "t=t+tp+(12,65)\n",
        "print(\"adding tuples \",t)\n",
        "tp=tp[:2]+('t','y','u')+tp[2:]\n",
        "print(\"adding items at specified index\",tp)\n",
        "t=t+(12,65,65)\n",
        "print(t)\n",
        "print(\"number of times 12 repeated in tuple is\",t.count(12))\n",
        "print(\"number of times 65 repeated in tuple is\",t.count(65))\n",
        "print(\"index at which 49 is present\",t.index(49))"
      ],
      "execution_count": 23,
      "outputs": [
        {
          "output_type": "stream",
          "text": [
            "Adding items in tuple (34, 55, 89, 18, 49, 78)\n",
            "adding tuples  (34, 55, 89, 18, 49, 78, 12, 65)\n",
            "adding items at specified index (34, 55, 't', 'y', 'u', 89, 18, 49, 78)\n",
            "(34, 55, 89, 18, 49, 78, 12, 65, 12, 65, 65)\n",
            "number of times 12 repeated in tuple is 2\n",
            "number of times 65 repeated in tuple is 3\n",
            "index at which 49 is present 4\n"
          ],
          "name": "stdout"
        }
      ]
    }
  ]
}