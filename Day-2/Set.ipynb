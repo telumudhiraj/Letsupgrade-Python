{
  "nbformat": 4,
  "nbformat_minor": 0,
  "metadata": {
    "colab": {
      "name": "Set.ipynb",
      "provenance": []
    },
    "kernelspec": {
      "name": "python3",
      "display_name": "Python 3"
    }
  },
  "cells": [
    {
      "cell_type": "code",
      "metadata": {
        "id": "VSA5ys4gLw8e",
        "colab_type": "code",
        "colab": {
          "base_uri": "https://localhost:8080/",
          "height": 156
        },
        "outputId": "1d2495f5-890a-4564-86e1-b676498ca9bf"
      },
      "source": [
        "s=set()\n",
        "r=set()\n",
        "f=set()\n",
        "for i in range(10):\n",
        "  s.add(i)\n",
        "  r.add(i)\n",
        "  f.add(i)\n",
        "for i in range(10,20):\n",
        "  r.add(i)\n",
        "  f.add(i)\n",
        "print(s)\n",
        "print(r)\n",
        "print(\"Set Difference\",r.difference(s))\n",
        "print(\"Set Intersection\",r.intersection(s))\n",
        "r.discard(13)\n",
        "print(\"Set Discard\",r)\n",
        "r.difference_update(s)\n",
        "print(\"Set Difference Update\",r)\n",
        "f.intersection_update(s)\n",
        "print(\"Set Intersection Update\",f)\n",
        "print(\"Set Union\",r.union(f))"
      ],
      "execution_count": 18,
      "outputs": [
        {
          "output_type": "stream",
          "text": [
            "{0, 1, 2, 3, 4, 5, 6, 7, 8, 9}\n",
            "{0, 1, 2, 3, 4, 5, 6, 7, 8, 9, 10, 11, 12, 13, 14, 15, 16, 17, 18, 19}\n",
            "Set Difference {10, 11, 12, 13, 14, 15, 16, 17, 18, 19}\n",
            "Set Intersection {0, 1, 2, 3, 4, 5, 6, 7, 8, 9}\n",
            "Set Discard {0, 1, 2, 3, 4, 5, 6, 7, 8, 9, 10, 11, 12, 14, 15, 16, 17, 18, 19}\n",
            "Set Difference Update {10, 11, 12, 14, 15, 16, 17, 18, 19}\n",
            "Set Intersection Update {0, 1, 2, 3, 4, 5, 6, 7, 8, 9}\n",
            "Set Union {0, 1, 2, 3, 4, 5, 6, 7, 8, 9, 10, 11, 12, 14, 15, 16, 17, 18, 19}\n"
          ],
          "name": "stdout"
        }
      ]
    }
  ]
}