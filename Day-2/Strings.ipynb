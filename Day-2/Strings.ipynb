{
  "nbformat": 4,
  "nbformat_minor": 0,
  "metadata": {
    "colab": {
      "name": "Strings.ipynb",
      "provenance": [],
      "collapsed_sections": []
    },
    "kernelspec": {
      "name": "python3",
      "display_name": "Python 3"
    }
  },
  "cells": [
    {
      "cell_type": "code",
      "metadata": {
        "id": "GnU--7mCXdhb",
        "colab_type": "code",
        "colab": {
          "base_uri": "https://localhost:8080/",
          "height": 190
        },
        "outputId": "a2cddb31-5e18-4312-b89f-76d6d3fb9a31"
      },
      "source": [
        "s=\"Iron Man is the Best\"\n",
        "print(\"Slicing:-\",s[:])\n",
        "print(\"Slicing s[1:9] with step 1 is-\",s[1:9])\n",
        "print(\"Slicing s[2:8:2] with step 2 is-\",s[2:8:2])\n",
        "print(\"Slicing to reverse the string is-\",s[::-1])\n",
        "print(\"Capitalize only the first letter of the string-\",s.capitalize())\n",
        "print(\"Index of substring-\",s.index(\"est\"))\n",
        "print(\"Capitalize all letters of the string-\",s.upper())\n",
        "print(\"Capitalize all letters of the string-\",s.lower())\n",
        "s=s.lower()\n",
        "print(s.isupper())\n",
        "print(s.islower())"
      ],
      "execution_count": 30,
      "outputs": [
        {
          "output_type": "stream",
          "text": [
            "Slicing:- Iron Man is the Best\n",
            "Slicing s[1:9] with step 1 is- ron Man \n",
            "Slicing s[2:8:2] with step 2 is- o a\n",
            "Slicing to reverse the string is- tseB eht si naM norI\n",
            "Capitalize only the first letter of the string- Iron man is the best\n",
            "Index of substring- 17\n",
            "Capitalize all letters of the string- IRON MAN IS THE BEST\n",
            "Capitalize all letters of the string- iron man is the best\n",
            "False\n",
            "True\n"
          ],
          "name": "stdout"
        }
      ]
    }
  ]
}