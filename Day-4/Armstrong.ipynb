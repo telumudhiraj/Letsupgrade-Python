{
  "nbformat": 4,
  "nbformat_minor": 0,
  "metadata": {
    "colab": {
      "name": "Armstrong.ipynb",
      "provenance": [],
      "collapsed_sections": []
    },
    "kernelspec": {
      "name": "python3",
      "display_name": "Python 3"
    }
  },
  "cells": [
    {
      "cell_type": "code",
      "metadata": {
        "id": "DwnrKzhakdZz",
        "colab_type": "code",
        "colab": {
          "base_uri": "https://localhost:8080/",
          "height": 52
        },
        "outputId": "fe5f96d5-2b61-496c-db49-abe5fb2ca2d5"
      },
      "source": [
        "def armstrong(x):\n",
        "  s=str(x)\n",
        "  y=x\n",
        "  n=len(s)\n",
        "  su=0\n",
        "  while(x>0):\n",
        "    r=x%10\n",
        "    su=su+(r**n)\n",
        "    x=x//10\n",
        "  if(su==y):\n",
        "    return True\n",
        "  else:\n",
        "    return False\n",
        "n=1042000\n",
        "while(n<702648265):\n",
        "    if(armstrong(n)):\n",
        "        print(\"The First armstrong number in given range is\",n)\n",
        "        break\n",
        "    n=n+1\n",
        "  \n",
        "  "
      ],
      "execution_count": 7,
      "outputs": [
        {
          "output_type": "stream",
          "text": [
            "True\n",
            "The First armstrong number in given range is 1741725\n"
          ],
          "name": "stdout"
        }
      ]
    }
  ]
}